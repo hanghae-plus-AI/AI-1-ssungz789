{
  "nbformat": 4,
  "nbformat_minor": 0,
  "metadata": {
    "colab": {
      "provenance": [],
      "machine_shape": "hm",
      "gpuType": "T4",
      "include_colab_link": true
    },
    "kernelspec": {
      "name": "python3",
      "display_name": "Python 3"
    },
    "language_info": {
      "name": "python"
    },
    "accelerator": "GPU"
  },
  "cells": [
    {
      "cell_type": "markdown",
      "metadata": {
        "id": "view-in-github",
        "colab_type": "text"
      },
      "source": [
        "<a href=\"https://colab.research.google.com/github/hanghae-plus-AI/AI-1-ssungz789/blob/main/w5/%EC%88%98%EB%8A%A5_of_gpt.ipynb\" target=\"_parent\"><img src=\"https://colab.research.google.com/assets/colab-badge.svg\" alt=\"Open In Colab\"/></a>"
      ]
    },
    {
      "cell_type": "markdown",
      "source": [
        "# 실습: GPT로 prompting 기법들 체험하기\n",
        "\n",
        "이번 실습에서는 GPT api를 통해 이론 시간에 배운 prompting 기법들을 다룹니다. 먼저 필요한 library들을 설치합니다."
      ],
      "metadata": {
        "id": "wUk08smFpXCJ"
      }
    },
    {
      "cell_type": "code",
      "execution_count": 1,
      "metadata": {
        "colab": {
          "base_uri": "https://localhost:8080/"
        },
        "id": "x3mIFZyNXwvP",
        "outputId": "ffe03ae6-a39f-4e8d-c831-d75f3bb9bc75",
        "collapsed": true
      },
      "outputs": [
        {
          "output_type": "stream",
          "name": "stdout",
          "text": [
            "\u001b[?25l   \u001b[90m━━━━━━━━━━━━━━━━━━━━━━━━━━━━━━━━━━━━━━━━\u001b[0m \u001b[32m0.0/383.7 kB\u001b[0m \u001b[31m?\u001b[0m eta \u001b[36m-:--:--\u001b[0m\r\u001b[2K   \u001b[91m━━━━━━━━━━━━━━━━━━━━━━━━━━━━━━━━━━━━━━\u001b[0m\u001b[90m╺\u001b[0m\u001b[90m━\u001b[0m \u001b[32m368.6/383.7 kB\u001b[0m \u001b[31m12.0 MB/s\u001b[0m eta \u001b[36m0:00:01\u001b[0m\r\u001b[2K   \u001b[90m━━━━━━━━━━━━━━━━━━━━━━━━━━━━━━━━━━━━━━━━\u001b[0m \u001b[32m383.7/383.7 kB\u001b[0m \u001b[31m6.8 MB/s\u001b[0m eta \u001b[36m0:00:00\u001b[0m\n",
            "\u001b[?25h\u001b[?25l   \u001b[90m━━━━━━━━━━━━━━━━━━━━━━━━━━━━━━━━━━━━━━━━\u001b[0m \u001b[32m0.0/471.6 kB\u001b[0m \u001b[31m?\u001b[0m eta \u001b[36m-:--:--\u001b[0m\r\u001b[2K   \u001b[90m━━━━━━━━━━━━━━━━━━━━━━━━━━━━━━━━━━━━━━━━\u001b[0m \u001b[32m471.6/471.6 kB\u001b[0m \u001b[31m17.6 MB/s\u001b[0m eta \u001b[36m0:00:00\u001b[0m\n",
            "\u001b[2K   \u001b[90m━━━━━━━━━━━━━━━━━━━━━━━━━━━━━━━━━━━━━━━━\u001b[0m \u001b[32m116.3/116.3 kB\u001b[0m \u001b[31m6.5 MB/s\u001b[0m eta \u001b[36m0:00:00\u001b[0m\n",
            "\u001b[2K   \u001b[90m━━━━━━━━━━━━━━━━━━━━━━━━━━━━━━━━━━━━━━━━\u001b[0m \u001b[32m76.4/76.4 kB\u001b[0m \u001b[31m5.3 MB/s\u001b[0m eta \u001b[36m0:00:00\u001b[0m\n",
            "\u001b[2K   \u001b[90m━━━━━━━━━━━━━━━━━━━━━━━━━━━━━━━━━━━━━━━━\u001b[0m \u001b[32m78.0/78.0 kB\u001b[0m \u001b[31m4.4 MB/s\u001b[0m eta \u001b[36m0:00:00\u001b[0m\n",
            "\u001b[2K   \u001b[90m━━━━━━━━━━━━━━━━━━━━━━━━━━━━━━━━━━━━━━━━\u001b[0m \u001b[32m325.2/325.2 kB\u001b[0m \u001b[31m19.7 MB/s\u001b[0m eta \u001b[36m0:00:00\u001b[0m\n",
            "\u001b[2K   \u001b[90m━━━━━━━━━━━━━━━━━━━━━━━━━━━━━━━━━━━━━━━━\u001b[0m \u001b[32m134.8/134.8 kB\u001b[0m \u001b[31m7.4 MB/s\u001b[0m eta \u001b[36m0:00:00\u001b[0m\n",
            "\u001b[2K   \u001b[90m━━━━━━━━━━━━━━━━━━━━━━━━━━━━━━━━━━━━━━━━\u001b[0m \u001b[32m194.1/194.1 kB\u001b[0m \u001b[31m13.4 MB/s\u001b[0m eta \u001b[36m0:00:00\u001b[0m\n",
            "\u001b[2K   \u001b[90m━━━━━━━━━━━━━━━━━━━━━━━━━━━━━━━━━━━━━━━━\u001b[0m \u001b[32m58.3/58.3 kB\u001b[0m \u001b[31m3.9 MB/s\u001b[0m eta \u001b[36m0:00:00\u001b[0m\n",
            "\u001b[?25h"
          ]
        }
      ],
      "source": [
        "!pip -q install openai datasets"
      ]
    },
    {
      "cell_type": "code",
      "source": [
        "import json\n",
        "from google.colab import drive"
      ],
      "metadata": {
        "id": "clO-OX7i3_s8"
      },
      "execution_count": 2,
      "outputs": []
    },
    {
      "cell_type": "code",
      "source": [
        "from google.colab import drive\n",
        "drive.mount('/content/drive')"
      ],
      "metadata": {
        "id": "zA0rH8M850C1",
        "outputId": "57ebb990-ece9-4bb2-b7dd-577fe4051e52",
        "colab": {
          "base_uri": "https://localhost:8080/"
        }
      },
      "execution_count": 3,
      "outputs": [
        {
          "output_type": "stream",
          "name": "stdout",
          "text": [
            "Mounted at /content/drive\n"
          ]
        }
      ]
    },
    {
      "cell_type": "code",
      "source": [
        "with open('/content/drive/MyDrive/colab_sparta/2023_11_KICS.json', 'r', encoding='utf-8') as f:\n",
        "    data = json.load(f)"
      ],
      "metadata": {
        "id": "Ni2LpkD25jgF"
      },
      "execution_count": 4,
      "outputs": []
    },
    {
      "cell_type": "markdown",
      "source": [
        "그 다음 openai api key를 다음과 같은 절차를 거쳐 얻어냅니다:\n",
        "1. platform.openai.com 에 계정을 생성하여 로그인합니다.\n",
        "2. `Dashboard > API keys` 메뉴로 들어가 `+ Create new secret key`를 눌러줍니다.\n",
        "3. 이름을 작성한 후, `Create secret key`를 눌러 key를 만들어줍니다.\n",
        "4. 생성된 key를 복사한 후 아래 \"OPENAI_API_KEY\"에 불여넣어줍니다."
      ],
      "metadata": {
        "id": "qHSO087Gpj1o"
      }
    },
    {
      "cell_type": "code",
      "source": [
        "from openai import OpenAI\n",
        "from google.colab import userdata\n",
        "\n",
        "client = OpenAI(api_key=userdata.get('OPENAI_API_KEY'))"
      ],
      "metadata": {
        "id": "TuFFzx_TXxn3"
      },
      "execution_count": 5,
      "outputs": []
    },
    {
      "cell_type": "code",
      "source": [
        "def prediction(problem, paragraph):\n",
        "    # 문제와 보기를 하나의 문자열로 결합\n",
        "    prompt = f\"다음은 국어 수능 문제다.\\n\\n지문:\\n{paragraph}\\n\\n문제: {problem['question']}\\n\\n보기:\\n\"\n",
        "    for i, choice in enumerate(problem['choices']):\n",
        "        prompt += f\"{i+1}. {choice}\\n\"\n",
        "    prompt += \"\\n위 문제의 정답으로 가장 적절한 것의 번호를 선택하고, 답변은 숫자로만 해주세요.\"\n",
        "\n",
        "    # GPT-4에 요청\n",
        "    response = client.chat.completions.create(\n",
        "        model=\"gpt-4\",\n",
        "        n=1,\n",
        "        messages=[\n",
        "            {\"role\": \"system\", \"content\": \"너는 한국어를 국어 선생님 만큼 엄청 잘하는 AI야. 주어진 수능 문제를 해결하고 가장 적절한 답을 선택해.\"},\n",
        "            {\"role\": \"user\", \"content\": prompt}\n",
        "        ]\n",
        "    )\n",
        "\n",
        "    # GPT-4의 응답에서 답변 추출\n",
        "    answer = response.choices[0].message.content\n",
        "\n",
        "    # 답변에서 숫자만 추출\n",
        "    import re\n",
        "    numbers = re.findall(r'\\d+', answer)\n",
        "    if numbers:\n",
        "        return int(numbers[0]) - 1  # 0-based index로 변환\n",
        "    else:\n",
        "        return -1  # 유효한 답변을 찾지 못한 경우"
      ],
      "metadata": {
        "id": "V4XF9Gsr7z51"
      },
      "execution_count": 6,
      "outputs": []
    },
    {
      "cell_type": "code",
      "source": [
        "from tqdm import tqdm\n",
        "\n",
        "total_score = 0\n",
        "earned_score = 0\n",
        "\n",
        "for item in tqdm(data):\n",
        "    paragraph = item.get('paragraph', '')  # paragraph가 없는 경우를 대비해 기본값 설정\n",
        "    for problem in item['problems']:\n",
        "        predicted_answer = prediction(problem, paragraph)\n",
        "        correct_answer = problem['answer'] - 1  # 0-based index로 변환\n",
        "        print(f\"문제: {problem['question']}\")\n",
        "        print(f\"정답: {problem['answer']}\")\n",
        "        print(f\"GPT-4의 예측: {predicted_answer + 1}\")\n",
        "\n",
        "        if predicted_answer == correct_answer:\n",
        "            earned_score += problem['score']\n",
        "\n",
        "        total_score += problem['score']\n",
        "\n"
      ],
      "metadata": {
        "id": "a0MAfKme9MuH",
        "outputId": "9e005e35-d36a-489a-d78a-e8d5aa05e5cd",
        "colab": {
          "base_uri": "https://localhost:8080/"
        }
      },
      "execution_count": 7,
      "outputs": [
        {
          "output_type": "stream",
          "name": "stderr",
          "text": [
            "\r  0%|          | 0/11 [00:00<?, ?it/s]"
          ]
        },
        {
          "output_type": "stream",
          "name": "stdout",
          "text": [
            "문제: 윗글의 내용과 일치하지 않는 것은?\n",
            "정답: 4\n",
            "GPT-4의 예측: 4\n",
            "문제: 다음은 학생이 독서 후 작성한 글의 일부이다. [A]를 바탕으로 ⓐ～ⓔ를 이해한 내용으로 가장 적절한 것은?\n",
            "정답: 5\n",
            "GPT-4의 예측: 3\n"
          ]
        },
        {
          "output_type": "stream",
          "name": "stderr",
          "text": [
            "\r  9%|▉         | 1/11 [00:01<00:15,  1.55s/it]"
          ]
        },
        {
          "output_type": "stream",
          "name": "stdout",
          "text": [
            "문제: 윗글을 읽고 ㉠에 대해 보인 반응으로 적절하지 않은 것은?\n",
            "정답: 1\n",
            "GPT-4의 예측: 1\n",
            "문제: (가)와 (나)에 대한 설명으로 가장 적절한 것은?\n",
            "정답: 4\n",
            "GPT-4의 예측: 4\n",
            "문제: [A]에 대한 이해로 적절하지 않은 것은?\n",
            "정답: 5\n",
            "GPT-4의 예측: 5\n",
            "문제: ㉮에 대한 이해를 바탕으로 ㉠, ㉡에 대해 파악한 내용으로 적절하지 않은 것은?\n",
            "정답: 3\n",
            "GPT-4의 예측: 3\n",
            "문제: ㉯를 반박하기 위한 ‘이수광’의 말로 가장 적절한 것은?\n",
            "정답: 2\n",
            "GPT-4의 예측: 2\n",
            "문제: (가), (나)를 읽은 학생이 <보기>의 임원경제지에 대해 보인 반응으로 적절하지 않은 것은?\n",
            "정답: 5\n",
            "GPT-4의 예측: 5\n"
          ]
        },
        {
          "output_type": "stream",
          "name": "stderr",
          "text": [
            "\r 18%|█▊        | 2/11 [00:35<03:02, 20.32s/it]"
          ]
        },
        {
          "output_type": "stream",
          "name": "stdout",
          "text": [
            "문제: 문맥상 ⓐ～ⓔ와 바꾸어 쓰기에 적절하지 않은 것은?\n",
            "정답: 2\n",
            "GPT-4의 예측: 2\n",
            "문제: 윗글의 내용과 일치하지 않는 것은?\n",
            "정답: 4\n",
            "GPT-4의 예측: 4\n",
            "문제: ㉠에 대한 이해로 가장 적절한 것은?\n",
            "정답: 5\n",
            "GPT-4의 예측: 5\n",
            "문제: 윗글을 바탕으로 <보기>를 이해한 내용으로 가장 적절한 것은? [3점]\n",
            "정답: 2\n",
            "GPT-4의 예측: 2\n"
          ]
        },
        {
          "output_type": "stream",
          "name": "stderr",
          "text": [
            "\r 27%|██▋       | 3/11 [00:59<02:56, 22.03s/it]"
          ]
        },
        {
          "output_type": "stream",
          "name": "stdout",
          "text": [
            "문제: 문맥상 ⓐ～ⓔ의 의미와 가장 가까운 것은?\n",
            "정답: 5\n",
            "GPT-4의 예측: 1\n",
            "문제: 윗글의 내용과 일치하지 않는 것은?\n",
            "정답: 3\n",
            "GPT-4의 예측: 3\n",
            "문제: 윗글을 읽고 추론한 내용으로 적절하지 않은 것은?\n",
            "정답: 4\n",
            "GPT-4의 예측: 5\n",
            "문제: ㉠, ㉡에 대한 이해로 가장 적절한 것은?\n",
            "정답: 4\n",
            "GPT-4의 예측: 4\n"
          ]
        },
        {
          "output_type": "stream",
          "name": "stderr",
          "text": [
            "\r 36%|███▋      | 4/11 [01:32<03:04, 26.40s/it]"
          ]
        },
        {
          "output_type": "stream",
          "name": "stdout",
          "text": [
            "문제: 윗글을 바탕으로 <보기>를 탐구한 내용으로 가장 적절한 것은?\n",
            "정답: 1\n",
            "GPT-4의 예측: 1\n",
            "문제: 윗글에 대한 설명으로 가장 적절한 것은?\n",
            "정답: 4\n",
            "GPT-4의 예측: 4\n",
            "문제: 윗글의 인물에 대한 이해로 적절하지 않은 것은?\n",
            "정답: 3\n",
            "GPT-4의 예측: 3\n",
            "문제: ㉠～㉤에 대한 이해로 가장 적절한 것은?\n",
            "정답: 3\n",
            "GPT-4의 예측: 3\n"
          ]
        },
        {
          "output_type": "stream",
          "name": "stderr",
          "text": [
            "\r 45%|████▌     | 5/11 [02:07<02:58, 29.71s/it]"
          ]
        },
        {
          "output_type": "stream",
          "name": "stdout",
          "text": [
            "문제: <보기>를 바탕으로 윗글을 감상한 내용으로 적절하지 않은것은?\n",
            "정답: 5\n",
            "GPT-4의 예측: 5\n",
            "문제: (가)～(다)의 공통점으로 가장 적절한 것은?\n",
            "정답: 1\n",
            "GPT-4의 예측: 1\n",
            "문제: [A], [B]에 대한 설명으로 적절하지 않은 것은?\n",
            "정답: 5\n",
            "GPT-4의 예측: 5\n",
            "문제: <보기>를 바탕으로 (가), (나)를 이해한 내용으로 적절하지 않은 것은?\n",
            "정답: 3\n",
            "GPT-4의 예측: 3\n",
            "문제: ㉠과 ㉡을 이해한 내용으로 가장 적절한 것은?\n",
            "정답: 3\n",
            "GPT-4의 예측: 3\n"
          ]
        },
        {
          "output_type": "stream",
          "name": "stderr",
          "text": [
            "\r 55%|█████▍    | 6/11 [02:50<02:49, 33.98s/it]"
          ]
        },
        {
          "output_type": "stream",
          "name": "stdout",
          "text": [
            "문제: <보기>를 바탕으로 [C]를 읽은 독자의 반응으로 적절하지 않은 것은?\n",
            "정답: 4\n",
            "GPT-4의 예측: 3\n",
            "문제: 윗글에 대한 이해로 가장 적절한 것은?\n",
            "정답: 1\n",
            "GPT-4의 예측: 1\n",
            "문제: [A]～[E]의 서술 방식에 대한 설명으로 적절하지 않은 것은?\n",
            "정답: 5\n",
            "GPT-4의 예측: 5\n",
            "문제: 윗글의 ‘오동나무’에 대한 이해로 가장 적절한 것은?\n",
            "정답: 1\n",
            "GPT-4의 예측: 1\n"
          ]
        },
        {
          "output_type": "stream",
          "name": "stderr",
          "text": [
            "\r 64%|██████▎   | 7/11 [03:32<02:26, 36.61s/it]"
          ]
        },
        {
          "output_type": "stream",
          "name": "stdout",
          "text": [
            "문제:  <보기>를 바탕으로 윗글을 감상한 내용으로 적절하지 않은 것은?\n",
            "정답: 2\n",
            "GPT-4의 예측: 2\n",
            "문제: (가)와 (나)의 공통점으로 가장 적절한 것은?\n",
            "정답: 1\n",
            "GPT-4의 예측: 1\n",
            "문제: ㉠～㉤의 시적 기능에 대한 설명으로 적절하지 않은 것은?\n",
            "정답: 4\n",
            "GPT-4의 예측: 4\n",
            "문제: [A]～[F]에 대한 이해로 가장 적절한 것은?\n",
            "정답: 2\n",
            "GPT-4의 예측: 2\n"
          ]
        },
        {
          "output_type": "stream",
          "name": "stderr",
          "text": [
            "\r 73%|███████▎  | 8/11 [03:50<01:32, 30.87s/it]"
          ]
        },
        {
          "output_type": "stream",
          "name": "stdout",
          "text": [
            "문제: <보기>를 바탕으로 (가)와 (나)를 감상한 내용으로 적절하지 않은 것은? \n",
            "정답: 3\n",
            "GPT-4의 예측: 3\n",
            "문제: 위 발표자의 말하기 방식으로 적절하지 않은 것은?\n",
            "정답: 1\n",
            "GPT-4의 예측: 1\n",
            "문제: 다음은 발표자가 제시한 자료이다. 발표자의 자료 활용에 대한 설명으로 가장 적절한 것은?\n",
            "정답: 5\n",
            "GPT-4의 예측: 5\n"
          ]
        },
        {
          "output_type": "stream",
          "name": "stderr",
          "text": [
            "\r 82%|████████▏ | 9/11 [04:10<00:54, 27.47s/it]"
          ]
        },
        {
          "output_type": "stream",
          "name": "stdout",
          "text": [
            "문제: 발표 내용을 바탕으로 할 때, <보기>에 나타난 학생들의 반응에 대한 이해로 가장 적절한 것은?\n",
            "정답: 3\n",
            "GPT-4의 예측: 0\n",
            "문제: (가)에 활용된 글쓰기 방식으로 가장 적절한 것은?\n",
            "정답: 4\n",
            "GPT-4의 예측: 4\n",
            "문제: <보기>는 (가)의 마지막 문단의 초고이다. <보기>를 고쳐 쓰기 위해 친구들이 조언한 내용 중 반영되지 않은 것은?\n",
            "정답: 4\n",
            "GPT-4의 예측: 4\n",
            "문제: [A], [B]에 대한 설명으로 적절하지 않은 것은?\n",
            "정답: 3\n",
            "GPT-4의 예측: 2\n",
            "문제: (가)와 (나)를 고려할 때, ‘학생 1’이 쓴 [회의록]의 내용 중 적절하지 않은 것은?\n",
            "정답: 2\n",
            "GPT-4의 예측: 3\n"
          ]
        },
        {
          "output_type": "stream",
          "name": "stderr",
          "text": [
            "\r 91%|█████████ | 10/11 [05:00<00:34, 34.52s/it]"
          ]
        },
        {
          "output_type": "stream",
          "name": "stdout",
          "text": [
            "문제: 다음은 (나)를 바탕으로 학생들이 만든 지도의 초안이다. ㉠～㉤에 대한 반응으로 가장 적절한 것은?\n",
            "정답: 4\n",
            "GPT-4의 예측: 3\n",
            "문제: 다음은 초고를 작성하기 전에 학생이 떠올린 생각이다. ㉠～㉤ 중, 학생의 초고에 반영되지 않은 것은?\n",
            "정답: 5\n",
            "GPT-4의 예측: 0\n",
            "문제: 다음은 초고를 읽은 교지 편집부 학생의 조언이다. 이를 반영 하여 [A]를 작성한다고 할 때, 가장 적절한 것은?\n",
            "정답: 2\n",
            "GPT-4의 예측: 2\n"
          ]
        },
        {
          "output_type": "stream",
          "name": "stderr",
          "text": [
            "100%|██████████| 11/11 [05:18<00:00, 28.96s/it]"
          ]
        },
        {
          "output_type": "stream",
          "name": "stdout",
          "text": [
            "문제: <보기>는 초고를 보완하기 위해 추가로 수집한 자료이다. 자료 활용 방안으로 적절하지 않은 것은?\n",
            "정답: 1\n",
            "GPT-4의 예측: 1\n"
          ]
        },
        {
          "output_type": "stream",
          "name": "stderr",
          "text": [
            "\n"
          ]
        }
      ]
    },
    {
      "cell_type": "code",
      "source": [
        "score_percentage = (earned_score / total_score) * 100\n",
        "print(f\"GPT-4의 점수: {earned_score}/{total_score} ({score_percentage:.2f}%)\")\n",
        "\n",
        "if score_percentage > 50:\n",
        "    print(\"통과!\")\n",
        "else:\n",
        "    print(\"50점을 넘지 못했습니다.\")"
      ],
      "metadata": {
        "id": "dASU2c8q-Zdf",
        "outputId": "7525f986-c58f-4ede-b5b5-b712879971ee",
        "colab": {
          "base_uri": "https://localhost:8080/"
        }
      },
      "execution_count": 8,
      "outputs": [
        {
          "output_type": "stream",
          "name": "stdout",
          "text": [
            "GPT-4의 점수: 80/100 (80.00%)\n",
            "통과!\n"
          ]
        }
      ]
    }
  ]
}